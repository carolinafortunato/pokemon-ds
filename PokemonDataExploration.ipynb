{
 "cells": [
  {
   "cell_type": "code",
   "execution_count": null,
   "id": "f77484b8-05ff-4c7b-b88b-ce430b14202a",
   "metadata": {},
   "outputs": [],
   "source": []
  }
 ],
 "metadata": {
  "kernelspec": {
   "display_name": "",
   "name": ""
  },
  "language_info": {
   "name": ""
  }
 },
 "nbformat": 4,
 "nbformat_minor": 5
}
